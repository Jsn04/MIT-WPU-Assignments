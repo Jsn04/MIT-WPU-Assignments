{
 "cells": [
  {
   "cell_type": "code",
   "execution_count": 26,
   "metadata": {},
   "outputs": [],
   "source": [
    "def pythagoras(s1, s2, h):\n",
    "    if (s1*s1 + s2*s2 == h*h):\n",
    "        print(\"It is a right angled triangle\")\n",
    "    else:\n",
    "        print(\"It is not a right angled triangle\")"
   ]
  },
  {
   "cell_type": "code",
   "execution_count": 27,
   "metadata": {},
   "outputs": [
    {
     "name": "stdout",
     "output_type": "stream",
     "text": [
      "Value should not be zero\n"
     ]
    }
   ],
   "source": [
    "try:\n",
    "    base = int(input(\"Enter length of base: \"))\n",
    "    perpendicular = int(input(\"Enter length of perpendicular: \"))\n",
    "    hypo = int(input(\"Enter length of hypotenuse: \"))\n",
    "    if base == 0 or perpendicular == 0 or hypo == 0:\n",
    "        raise Exception\n",
    "except ValueError:\n",
    "    print(\"Please enter integer that is not zero\")\n",
    "except Exception:\n",
    "    print(\"Value should not be zero\")\n",
    "else:\n",
    "    pythagoras(base, perpendicular, hypo)"
   ]
  }
 ],
 "metadata": {
  "kernelspec": {
   "display_name": "Python 3",
   "language": "python",
   "name": "python3"
  },
  "language_info": {
   "codemirror_mode": {
    "name": "ipython",
    "version": 3
   },
   "file_extension": ".py",
   "mimetype": "text/x-python",
   "name": "python",
   "nbconvert_exporter": "python",
   "pygments_lexer": "ipython3",
   "version": "3.11.0"
  }
 },
 "nbformat": 4,
 "nbformat_minor": 2
}
