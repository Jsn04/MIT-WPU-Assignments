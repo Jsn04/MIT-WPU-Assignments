{
 "cells": [
  {
   "cell_type": "markdown",
   "metadata": {},
   "source": [
    "Find sum of even numbers in a list (Without user input)"
   ]
  },
  {
   "cell_type": "code",
   "execution_count": 1,
   "metadata": {},
   "outputs": [
    {
     "name": "stdout",
     "output_type": "stream",
     "text": [
      "[1, 2, 3, 4, 5, 6, 7, 8, 9, 10]\n"
     ]
    }
   ],
   "source": [
    "order = []\n",
    "for i in range(1, 11):\n",
    "    order.append(i)\n",
    "print(order)"
   ]
  },
  {
   "cell_type": "code",
   "execution_count": 2,
   "metadata": {},
   "outputs": [
    {
     "name": "stdout",
     "output_type": "stream",
     "text": [
      "30\n"
     ]
    }
   ],
   "source": [
    "even_sum = 0\n",
    "for element in order:\n",
    "    if element % 2 == 0:\n",
    "        even_sum += element\n",
    "\n",
    "print(even_sum)"
   ]
  },
  {
   "cell_type": "markdown",
   "metadata": {},
   "source": [
    "Find sum of even numbers (With User input)"
   ]
  },
  {
   "cell_type": "code",
   "execution_count": 3,
   "metadata": {},
   "outputs": [
    {
     "name": "stdout",
     "output_type": "stream",
     "text": [
      "[2, 4]\n"
     ]
    }
   ],
   "source": [
    "order.clear()\n",
    "num = int(input(\"Enter the number of elements: \"))\n",
    "for i in range(num):\n",
    "    order.append(int(input(\"Enter the element: \")))\n",
    "print(order)"
   ]
  },
  {
   "cell_type": "code",
   "execution_count": 4,
   "metadata": {},
   "outputs": [
    {
     "name": "stdout",
     "output_type": "stream",
     "text": [
      "6\n"
     ]
    }
   ],
   "source": [
    "even_sum = 0\n",
    "for element in order:\n",
    "    if element % 2 == 0:\n",
    "        even_sum += element\n",
    "\n",
    "print(even_sum)"
   ]
  },
  {
   "cell_type": "markdown",
   "metadata": {},
   "source": [
    "Remove duplicates from a order of words"
   ]
  },
  {
   "cell_type": "code",
   "execution_count": 5,
   "metadata": {},
   "outputs": [
    {
     "name": "stdout",
     "output_type": "stream",
     "text": [
      "['ishan', 'radha', 'ishan']\n"
     ]
    }
   ],
   "source": [
    "order.clear()\n",
    "num = int(input(\"Enter the number of words: \"))\n",
    "for i in range(num):\n",
    "    order.append(input(\"Enter the word: \").lower())\n",
    "print(order)"
   ]
  },
  {
   "cell_type": "code",
   "execution_count": 6,
   "metadata": {},
   "outputs": [
    {
     "name": "stdout",
     "output_type": "stream",
     "text": [
      "ishan\n",
      "['radha', 'ishan']\n"
     ]
    }
   ],
   "source": [
    "#delete duplicates\n",
    "for element in order:\n",
    "    if (element in order) and (order.count(element) > 1):\n",
    "        print(element)\n",
    "        order.remove(element)\n",
    "print(order)"
   ]
  },
  {
   "cell_type": "markdown",
   "metadata": {},
   "source": [
    "Counting the occurrences of a sepcific character in a String"
   ]
  },
  {
   "cell_type": "code",
   "execution_count": 15,
   "metadata": {},
   "outputs": [
    {
     "name": "stdout",
     "output_type": "stream",
     "text": [
      "['r', 'a', 'c', 'e', 'c', 'a', 'r']\n"
     ]
    }
   ],
   "source": [
    "order.clear()\n",
    "string = input(\"Enter the string: \")\n",
    "str_list = []\n",
    "for char in string:\n",
    "    str_list.append(char)\n",
    "print(str_list)"
   ]
  },
  {
   "cell_type": "code",
   "execution_count": 16,
   "metadata": {},
   "outputs": [
    {
     "name": "stdout",
     "output_type": "stream",
     "text": [
      "r\n",
      "c\n",
      "a\n",
      "['e', 'c', 'a', 'r']\n"
     ]
    }
   ],
   "source": [
    "for element in str_list:\n",
    "    if (element in str_list) and (str_list.count(element) > 1):\n",
    "        print(element)\n",
    "        str_list.remove(element)\n",
    "print(str_list)"
   ]
  }
 ],
 "metadata": {
  "kernelspec": {
   "display_name": "Python 3",
   "language": "python",
   "name": "python3"
  },
  "language_info": {
   "codemirror_mode": {
    "name": "ipython",
    "version": 3
   },
   "file_extension": ".py",
   "mimetype": "text/x-python",
   "name": "python",
   "nbconvert_exporter": "python",
   "pygments_lexer": "ipython3",
   "version": "3.11.0"
  }
 },
 "nbformat": 4,
 "nbformat_minor": 2
}
