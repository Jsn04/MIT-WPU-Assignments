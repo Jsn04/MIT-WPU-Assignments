{
 "cells": [
  {
   "cell_type": "code",
   "execution_count": 46,
   "metadata": {},
   "outputs": [
    {
     "name": "stdout",
     "output_type": "stream",
     "text": [
      "4\n",
      "['1', '0', '1', '0']\n"
     ]
    }
   ],
   "source": [
    "num = input(\"Enter data to be sent: \")\n",
    "data = num.split()\n",
    "num = num.replace(\" \", \"\")\n",
    "d = len(num)\n",
    "print(d)\n",
    "print(data)"
   ]
  },
  {
   "cell_type": "code",
   "execution_count": 47,
   "metadata": {},
   "outputs": [
    {
     "name": "stdout",
     "output_type": "stream",
     "text": [
      "3\n"
     ]
    }
   ],
   "source": [
    "r = 0\n",
    "while(2**r < d + r + 1):\n",
    "    r += 1\n",
    "print(r)"
   ]
  },
  {
   "cell_type": "code",
   "execution_count": 48,
   "metadata": {},
   "outputs": [
    {
     "name": "stdout",
     "output_type": "stream",
     "text": [
      "[0, 0, 0]\n",
      "[0, 0, 1]\n",
      "[0, 1, 0]\n",
      "[0, 1, 1]\n",
      "[1, 0, 0]\n",
      "[1, 0, 1]\n",
      "[1, 1, 0]\n",
      "[1, 1, 1]\n"
     ]
    }
   ],
   "source": [
    "from itertools import product\n",
    "\n",
    "def generate_binary_combinations(n):\n",
    "    # Generate all combinations of n-bit binary numbers\n",
    "    binary_combinations = list(product([0, 1], repeat=r))\n",
    "    \n",
    "    # Convert each tuple to a list for readability (optional)\n",
    "    binary_combinations = [list(combination) for combination in binary_combinations]\n",
    "    \n",
    "    return binary_combinations\n",
    "\n",
    "result = generate_binary_combinations(r)\n",
    "\n",
    "# Print the result\n",
    "for combination in result:\n",
    "    print(combination)"
   ]
  },
  {
   "cell_type": "code",
   "execution_count": 52,
   "metadata": {},
   "outputs": [
    {
     "name": "stdout",
     "output_type": "stream",
     "text": [
      "r1: [[0, 0, 0], [0, 0, 1], [0, 1, 0], [0, 1, 1], [1, 0, 0], [1, 0, 1], [1, 1, 0], [1, 1, 1]]\n",
      "r2: [[0, 0, 0], [0, 0, 1], [0, 1, 0], [0, 1, 1], [1, 0, 0], [1, 0, 1], [1, 1, 0], [1, 1, 1]]\n",
      "r3: [[0, 0, 0], [0, 0, 1], [0, 1, 0], [0, 1, 1], [1, 0, 0], [1, 0, 1], [1, 1, 0], [1, 1, 1]]\n"
     ]
    }
   ],
   "source": [
    "n = d + r #total number of bits\n",
    "# Creating a dictionary to store lists\n",
    "lists_dict = {}\n",
    "\n",
    "# Creating three lists in a loop\n",
    "for i in range(1, r + 1):\n",
    "    list_name = f'r{i}'\n",
    "    lists_dict[list_name] = []\n",
    "    for combination in result:\n",
    "        lists_dict[list_name].append(combination)\n",
    "for key, value in lists_dict.items():\n",
    "    print(f\"{key}: {value}\")"
   ]
  }
 ],
 "metadata": {
  "kernelspec": {
   "display_name": "Python 3",
   "language": "python",
   "name": "python3"
  },
  "language_info": {
   "codemirror_mode": {
    "name": "ipython",
    "version": 3
   },
   "file_extension": ".py",
   "mimetype": "text/x-python",
   "name": "python",
   "nbconvert_exporter": "python",
   "pygments_lexer": "ipython3",
   "version": "3.11.0"
  }
 },
 "nbformat": 4,
 "nbformat_minor": 2
}
